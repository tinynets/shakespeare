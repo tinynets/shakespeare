{
 "cells": [
  {
   "cell_type": "code",
   "execution_count": 1,
   "metadata": {},
   "outputs": [
    {
     "name": "stdout",
     "output_type": "stream",
     "text": [
      "['the', 'tragedy', 'of', 'antony', 'and', 'cleopatra', 'dramatis', 'personae', 'mark', 'antony', 'octavius', 'caesar', 'm', '.', 'aemilius', 'lepidus', 'triumvirs', '.', 'sextus', 'pompeius', 'domitius', 'enobarbus', 'ventidius', 'eros', 'scarus', 'dercetas', 'demetrius', 'philo', 'friends', 'to', 'antony', '.', 'mecaenas', 'agrippa', 'dolabella', 'proculeius', 'thyreus', 'gallus', 'menas', 'friends', 'to', 'caesar', '.', 'menecrates', 'varrius', 'friends', 'to', 'pompey', '.', 'taurus', ',', 'lieutenant-general', 'to', 'caesar', '.', 'canidius', ',', 'lieutenant-general', 'to', 'antony', '.', 'silius', ',', 'an', 'officer', 'in', 'ventidius', \"'\", 's', 'army', '.', 'euphronius', ',', 'an', 'ambassador', 'from', 'antony', 'to', 'caesar', '.', 'alexas', 'mardian', ',', 'a', 'eunuch', '.', 'seleucus', 'diomedes', 'attendants', 'on', 'cleopatra', '.', 'a', 'soothsayer', '.', 'a', 'clown', '.', 'cleopatra', ',']\n"
     ]
    },
    {
     "name": "stderr",
     "output_type": "stream",
     "text": [
      "/Users/vineetkuruvilla/shakespeare/env/lib/python3.9/site-packages/urllib3/__init__.py:34: NotOpenSSLWarning: urllib3 v2.0 only supports OpenSSL 1.1.1+, currently the 'ssl' module is compiled with 'LibreSSL 2.8.3'. See: https://github.com/urllib3/urllib3/issues/3020\n",
      "  warnings.warn(\n"
     ]
    }
   ],
   "source": [
    "from preprocess import Preprocess"
   ]
  },
  {
   "cell_type": "code",
   "execution_count": null,
   "metadata": {},
   "outputs": [],
   "source": []
  }
 ],
 "metadata": {
  "kernelspec": {
   "display_name": "env",
   "language": "python",
   "name": "python3"
  },
  "language_info": {
   "codemirror_mode": {
    "name": "ipython",
    "version": 3
   },
   "file_extension": ".py",
   "mimetype": "text/x-python",
   "name": "python",
   "nbconvert_exporter": "python",
   "pygments_lexer": "ipython3",
   "version": "3.9.6"
  }
 },
 "nbformat": 4,
 "nbformat_minor": 2
}
